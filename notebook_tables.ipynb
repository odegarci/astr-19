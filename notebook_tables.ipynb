{
 "cells": [
  {
   "cell_type": "code",
   "execution_count": null,
   "id": "9caf911e-f966-4225-8036-630d6d8690b2",
   "metadata": {},
   "outputs": [],
   "source": [
    "import numpy as np\n",
    "from astropy import units as u\n",
    "from astropy.table import Table\n",
    "\n",
    "def get_sin(x):\n",
    "    return np.sin(x)"
   ]
  },
  {
   "cell_type": "markdown",
   "id": "03bf226d-f044-4a22-a4eb-8b20a5db8b71",
   "metadata": {},
   "source": [
    "I am simply importing numpy and getting it to return sin(x). I imported astropy for the tables being used later."
   ]
  },
  {
   "cell_type": "code",
   "execution_count": null,
   "id": "fac53852-11df-4d0c-b624-2d9adcaec4ed",
   "metadata": {},
   "outputs": [],
   "source": [
    "def get_cos(x):\n",
    "    return np.cos(x)"
   ]
  },
  {
   "cell_type": "markdown",
   "id": "ab20136d-419e-43ef-b341-1f9e64bb4e53",
   "metadata": {},
   "source": [
    "I do the same thing as before, but instead, numpy is getting cos(x) for me."
   ]
  },
  {
   "cell_type": "code",
   "execution_count": null,
   "id": "9e68b48c-a239-40f0-8677-6619d8d1093b",
   "metadata": {},
   "outputs": [],
   "source": [
    "x = np.linspace(0, 2 * np.pi, 1000)\n",
    "\n",
    "sin_table = Table()\n",
    "sin_table['x'] = x\n",
    "sin_table['sin x'] = get_sin(x)  \n",
    "\n",
    "cos_table = Table()\n",
    "cos_table['x'] = x\n",
    "cos_table['cos x'] = get_cos(x)\n",
    "\n",
    "print(sin_table)\n",
    "print(cos_table)"
   ]
  },
  {
   "cell_type": "markdown",
   "id": "5dbccd8c-495e-457e-95ed-b97029729c72",
   "metadata": {},
   "source": [
    "In this cell, I asked numpy and astropy to give me a table for sin(x). I made sure it gave me 1000 entries using the linspace function and teh x was tabulated between 0 and 2pi. I did the same thing but instead called for cos(x) to be tabulated the same way. Finally, I got python to print the tables. "
   ]
  },
  {
   "cell_type": "code",
   "execution_count": null,
   "id": "32d775a8-760e-46ed-b476-b51633dd9094",
   "metadata": {},
   "outputs": [],
   "source": [
    "print(f\"{'x':<10} {'sin(x)':<10} {'cos(x)':<10}\")\n",
    "for i in range(10):\n",
    "    print(f\"{sin_table['x'][i]:<10} {sin_table['sin x'][i]:<10} {cos_table['cos x'][i]:<10}\")"
   ]
  },
  {
   "cell_type": "markdown",
   "id": "efafb349-f83b-4773-9a3f-7fba3dad1e7b",
   "metadata": {},
   "source": [
    "In this fourth and final cell, I made a loop that would print out the first 10 values of x from both tables. for i in range(10): ensures it is iterated from the first 10 outputs. I made sure it is formatted and limited to the 10 outputs when it is printed. "
   ]
  }
 ],
 "metadata": {
  "kernelspec": {
   "display_name": "ASTR 19",
   "language": "python",
   "name": "astr19"
  },
  "language_info": {
   "codemirror_mode": {
    "name": "ipython",
    "version": 3
   },
   "file_extension": ".py",
   "mimetype": "text/x-python",
   "name": "python",
   "nbconvert_exporter": "python",
   "pygments_lexer": "ipython3",
   "version": "3.10.12"
  }
 },
 "nbformat": 4,
 "nbformat_minor": 5
}
