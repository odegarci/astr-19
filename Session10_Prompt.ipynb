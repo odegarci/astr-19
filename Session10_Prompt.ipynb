{
 "cells": [
  {
   "cell_type": "code",
   "execution_count": null,
   "id": "96ee610a-fb25-4a98-a12a-12308e037aa6",
   "metadata": {},
   "outputs": [],
   "source": [
    "import matplotlib.pyplot as plt\n",
    "import numpy as np\n",
    "import scipy.special as sps"
   ]
  },
  {
   "cell_type": "code",
   "execution_count": null,
   "id": "b54d4f20-ec80-461f-9dce-66f7140d92f0",
   "metadata": {},
   "outputs": [],
   "source": [
    "shape, scale = 2., 2.\n",
    "s = np.random.gamma(shape, scale, 1000)"
   ]
  },
  {
   "cell_type": "code",
   "execution_count": null,
   "id": "f489a88f-5724-4de8-a917-5b3103b771df",
   "metadata": {},
   "outputs": [],
   "source": [
    "count, bins, ignored = plt.hist(s, 100, density=True, color='mediumvioletred')\n",
    "y = bins**(shape-1)*(np.exp(-bins/scale) /\n",
    "                     (sps.gamma(shape)*scale**shape))\n",
    "\n",
    "plt.plot(bins, y, linewidth=2, color='mediumturquoise')\n",
    "plt.title('Gamma Distribution')\n",
    "plt.xlabel('X Value')\n",
    "plt.ylabel('Y Value')\n",
    "plt.savefig('Session10_Prompt.pdf')\n",
    "\n",
    "plt.show()"
   ]
  },
  {
   "cell_type": "markdown",
   "id": "a0fa021f-6bfd-4912-9ae2-c6985f6e072b",
   "metadata": {},
   "source": [
    "I am using the gamma distribution "
   ]
  }
 ],
 "metadata": {
  "kernelspec": {
   "display_name": "ASTR 19",
   "language": "python",
   "name": "astr19"
  },
  "language_info": {
   "codemirror_mode": {
    "name": "ipython",
    "version": 3
   },
   "file_extension": ".py",
   "mimetype": "text/x-python",
   "name": "python",
   "nbconvert_exporter": "python",
   "pygments_lexer": "ipython3",
   "version": "3.10.12"
  }
 },
 "nbformat": 4,
 "nbformat_minor": 5
}
