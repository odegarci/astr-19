{
 "cells": [
  {
   "cell_type": "code",
   "execution_count": null,
   "id": "b8cdd885-224d-4fdc-be01-1f6a42628d96",
   "metadata": {},
   "outputs": [],
   "source": [
    "import matplotlib.pyplot as plt\n",
    "import numpy as np"
   ]
  },
  {
   "cell_type": "code",
   "execution_count": null,
   "id": "444aa411-f25c-4017-a40a-cc9ad56c3092",
   "metadata": {},
   "outputs": [],
   "source": [
    "x = np.linspace(0,1, 100)"
   ]
  },
  {
   "cell_type": "code",
   "execution_count": null,
   "id": "3ff57fd4-0957-4b97-8fee-0b8984706f46",
   "metadata": {},
   "outputs": [],
   "source": [
    "def exp_func(x):\n",
    "    return np.exp(x)"
   ]
  },
  {
   "cell_type": "code",
   "execution_count": null,
   "id": "3ca57e77-3ef2-401a-9078-db052f4c5f08",
   "metadata": {},
   "outputs": [],
   "source": [
    "y = exp_func(x)\n",
    "\n",
    "plt.plot(x, y)\n",
    "plt.xlabel('Time [Milliseconds]')\n",
    "plt.ylabel('Awesomeness')\n",
    "plt.savefig(\"Session_7.pdf\")"
   ]
  }
 ],
 "metadata": {
  "kernelspec": {
   "display_name": "ASTR 19",
   "language": "python",
   "name": "astr19"
  },
  "language_info": {
   "codemirror_mode": {
    "name": "ipython",
    "version": 3
   },
   "file_extension": ".py",
   "mimetype": "text/x-python",
   "name": "python",
   "nbconvert_exporter": "python",
   "pygments_lexer": "ipython3",
   "version": "3.10.12"
  }
 },
 "nbformat": 4,
 "nbformat_minor": 5
}
